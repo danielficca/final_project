{
  "nbformat": 4,
  "nbformat_minor": 0,
  "metadata": {
    "colab": {
      "name": "Final_Ficca_Daniel.ipynb",
      "provenance": [],
      "collapsed_sections": []
    },
    "kernelspec": {
      "name": "python3",
      "display_name": "Python 3"
    },
    "language_info": {
      "name": "python"
    }
  },
  "cells": [
    {
      "cell_type": "markdown",
      "metadata": {
        "id": "HLZ91mmvMQyl"
      },
      "source": [
        "## **Machine Learning Final Project DUE: Friday May 7th 11:59pm**\n",
        "\n",
        "**Note: Please read all the instructions carefully before starting the project.**\n",
        "\n",
        "For your final project you will build an ML model to analyze a dataset of your choice. You are welcome to keep working on the data in your EDA project if your data is large enough (at least 1000 rows for simple models and at least 10,000 for more complex models) or you can choose from the datasets/project suggestions below.\n",
        "\n",
        "In this project make sure that you:\n",
        "- Have a large enough dataset\n",
        "- Split your data in training and testing\n",
        "- Explore your data to inform which type of model to choose (no need if you are using your EDA dataset)\n",
        "- Try different models on your training dataset - then select the most promising model\n",
        "- Use cross validation to fine tune the model’s parameters such as alpha in lasso\n",
        "- Simplify your model using regularization, prunnning, drop-out, etc. to avoid overfitting\n",
        "- Communicate your model’s performance and make sure you compare it to a benchmark when appropriate\n",
        "- Plot interesting graphs and results\n",
        "- Write and publish your article to medium\n",
        "- Commit your code to your GitHub\n",
        "\n",
        "Please ensure you handle all the preprocessing before the modeling.\n",
        "\n",
        "Suggestions for project:\n",
        "You can take a look at the resources given below for choosing a dataset for your project. \n",
        "\n",
        "- Traffic sign detection - https://benchmark.ini.rub.de/gtsdb_dataset.html\n",
        "- Cat and dog classifier - https://www.kaggle.com/c/dogs-vs-cats/data\n",
        "- Other datasets from Kaggle - https://www.kaggle.com/data/41592"
      ]
    },
    {
      "cell_type": "markdown",
      "metadata": {
        "id": "mirWm3dBPv90"
      },
      "source": [
        "## **Grading Criteria**\n",
        "\n",
        "- Show clear exploration of the data to justify model choice\n",
        "- Train mutliple models and clearly articulate why you chose your final model\n",
        "- Show your performance on test dataset\n",
        "- Clear and concise write-up with clear well-documented figures\n",
        "- Commit your code to GitHub"
      ]
    },
    {
      "cell_type": "markdown",
      "metadata": {
        "id": "4ZRNqxFcP4wx"
      },
      "source": [
        "## **Submission Details**\n",
        "\n",
        "This is an individual assignment. You may not work in groups. The assignment is due on Friday (05/07/2021)\n",
        "- To submit your assignment, download your notebook and the dataset, zip the dataset and notebook, and submit the zipped file on blackboard.\n",
        "- Make sure the notebook is named in the format - Final_LastName_FirstName. If you are submitting a zipped file, please name the file as well in the same format.\n",
        "- Please include the link to access your blog and your github repo in your notebook.\n",
        "- Also include the link to your notebook, github repo and the blog in the submission on blackboard. Please ensure the TAs have the required access to your notebooks and the github repo.\n",
        "\n",
        "**Note - If the dataset is too large to be zipped and submitted on blackboard, only submit your notebook, add your dataset to your google drive and share a link to the file in your notebook.**"
      ]
    },
    {
      "cell_type": "code",
      "metadata": {
        "id": "ZzWRBLl6MImY"
      },
      "source": [
        "# Import packages\n",
        "\n",
        "import pandas as pd\n",
        "import numpy as np\n",
        "import seaborn as sb\n",
        "import matplotlib.pyplot as plt\n",
        "from sklearn.impute import SimpleImputer\n",
        "from sklearn.preprocessing import MinMaxScaler\n",
        "\n",
        "from sklearn import metrics\n",
        "from sklearn.metrics import (\n",
        "    classification_report,\n",
        "    recall_score,\n",
        "    precision_score,\n",
        "    accuracy_score\n",
        ")\n",
        "from sklearn import tree\n",
        "\n",
        "from sklearn.model_selection import train_test_split\n",
        "from sklearn.dummy import DummyClassifier\n",
        "\n",
        "from sklearn.ensemble import BaggingClassifier\n",
        "from sklearn.ensemble import RandomForestClassifier\n",
        "\n",
        "from sklearn.ensemble import AdaBoostClassifier\n",
        "from sklearn.tree import DecisionTreeClassifier\n",
        "\n",
        "from sklearn.ensemble import RandomForestClassifier, VotingClassifier\n",
        "from sklearn.svm import SVC\n",
        "from sklearn.linear_model import LogisticRegression"
      ],
      "execution_count": 95,
      "outputs": []
    },
    {
      "cell_type": "markdown",
      "metadata": {
        "id": "J_bKo6L6YcCp"
      },
      "source": [
        "# Part 1: Exploring & cleaing the data"
      ]
    },
    {
      "cell_type": "markdown",
      "metadata": {
        "id": "RH4vnYQsXQ_H"
      },
      "source": [
        "### 1."
      ]
    },
    {
      "cell_type": "code",
      "metadata": {
        "id": "xEC1TQ0_aKbr"
      },
      "source": [
        "pd.set_option('display.max_columns', None)\n",
        "\n",
        "# import data into 2 dataframes so I can manipulate numerical and categorical separately later on\n",
        "data_num = pd.read_csv('Employee_Retention.csv')\n",
        "data_cat = pd.read_csv('Employee_Retention.csv')"
      ],
      "execution_count": 134,
      "outputs": []
    },
    {
      "cell_type": "markdown",
      "metadata": {
        "id": "iGzwrlREXS5R"
      },
      "source": [
        "### 2."
      ]
    },
    {
      "cell_type": "code",
      "metadata": {
        "colab": {
          "base_uri": "https://localhost:8080/",
          "height": 308
        },
        "id": "CDQhkrn_ujSK",
        "outputId": "1a43e33c-ba4e-4b65-dac9-03ace0aa9e32"
      },
      "source": [
        "# Getting an overview of the numerical features\n",
        "\n",
        "data_num.describe()\n",
        "\n",
        "# Note: The ranges of each feature vary widely, so we need to normalize "
      ],
      "execution_count": 135,
      "outputs": [
        {
          "output_type": "execute_result",
          "data": {
            "text/html": [
              "<div>\n",
              "<style scoped>\n",
              "    .dataframe tbody tr th:only-of-type {\n",
              "        vertical-align: middle;\n",
              "    }\n",
              "\n",
              "    .dataframe tbody tr th {\n",
              "        vertical-align: top;\n",
              "    }\n",
              "\n",
              "    .dataframe thead th {\n",
              "        text-align: right;\n",
              "    }\n",
              "</style>\n",
              "<table border=\"1\" class=\"dataframe\">\n",
              "  <thead>\n",
              "    <tr style=\"text-align: right;\">\n",
              "      <th></th>\n",
              "      <th>Age</th>\n",
              "      <th>DailyRate</th>\n",
              "      <th>DistanceFromHome</th>\n",
              "      <th>Education</th>\n",
              "      <th>EmployeeCount</th>\n",
              "      <th>EmployeeNumber</th>\n",
              "      <th>EnvironmentSatisfaction</th>\n",
              "      <th>HourlyRate</th>\n",
              "      <th>JobInvolvement</th>\n",
              "      <th>JobLevel</th>\n",
              "      <th>JobSatisfaction</th>\n",
              "      <th>MonthlyIncome</th>\n",
              "      <th>MonthlyRate</th>\n",
              "      <th>NumCompaniesWorked</th>\n",
              "      <th>PercentSalaryHike</th>\n",
              "      <th>PerformanceRating</th>\n",
              "      <th>RelationshipSatisfaction</th>\n",
              "      <th>StandardHours</th>\n",
              "      <th>StockOptionLevel</th>\n",
              "      <th>TotalWorkingYears</th>\n",
              "      <th>TrainingTimesLastYear</th>\n",
              "      <th>WorkLifeBalance</th>\n",
              "      <th>YearsAtCompany</th>\n",
              "      <th>YearsInCurrentRole</th>\n",
              "      <th>YearsSinceLastPromotion</th>\n",
              "      <th>YearsWithCurrManager</th>\n",
              "    </tr>\n",
              "  </thead>\n",
              "  <tbody>\n",
              "    <tr>\n",
              "      <th>count</th>\n",
              "      <td>1470.000000</td>\n",
              "      <td>1470.000000</td>\n",
              "      <td>1470.000000</td>\n",
              "      <td>1470.000000</td>\n",
              "      <td>1470.0</td>\n",
              "      <td>1470.000000</td>\n",
              "      <td>1470.000000</td>\n",
              "      <td>1470.000000</td>\n",
              "      <td>1470.000000</td>\n",
              "      <td>1470.000000</td>\n",
              "      <td>1470.000000</td>\n",
              "      <td>1470.000000</td>\n",
              "      <td>1470.000000</td>\n",
              "      <td>1470.000000</td>\n",
              "      <td>1470.000000</td>\n",
              "      <td>1470.000000</td>\n",
              "      <td>1470.000000</td>\n",
              "      <td>1470.0</td>\n",
              "      <td>1470.000000</td>\n",
              "      <td>1470.000000</td>\n",
              "      <td>1470.000000</td>\n",
              "      <td>1470.000000</td>\n",
              "      <td>1470.000000</td>\n",
              "      <td>1470.000000</td>\n",
              "      <td>1470.000000</td>\n",
              "      <td>1470.000000</td>\n",
              "    </tr>\n",
              "    <tr>\n",
              "      <th>mean</th>\n",
              "      <td>36.923810</td>\n",
              "      <td>802.485714</td>\n",
              "      <td>9.192517</td>\n",
              "      <td>2.912925</td>\n",
              "      <td>1.0</td>\n",
              "      <td>1024.865306</td>\n",
              "      <td>2.721769</td>\n",
              "      <td>65.891156</td>\n",
              "      <td>2.729932</td>\n",
              "      <td>2.063946</td>\n",
              "      <td>2.728571</td>\n",
              "      <td>6502.931293</td>\n",
              "      <td>14313.103401</td>\n",
              "      <td>2.693197</td>\n",
              "      <td>15.209524</td>\n",
              "      <td>3.153741</td>\n",
              "      <td>2.712245</td>\n",
              "      <td>80.0</td>\n",
              "      <td>0.793878</td>\n",
              "      <td>11.279592</td>\n",
              "      <td>2.799320</td>\n",
              "      <td>2.761224</td>\n",
              "      <td>7.008163</td>\n",
              "      <td>4.229252</td>\n",
              "      <td>2.187755</td>\n",
              "      <td>4.123129</td>\n",
              "    </tr>\n",
              "    <tr>\n",
              "      <th>std</th>\n",
              "      <td>9.135373</td>\n",
              "      <td>403.509100</td>\n",
              "      <td>8.106864</td>\n",
              "      <td>1.024165</td>\n",
              "      <td>0.0</td>\n",
              "      <td>602.024335</td>\n",
              "      <td>1.093082</td>\n",
              "      <td>20.329428</td>\n",
              "      <td>0.711561</td>\n",
              "      <td>1.106940</td>\n",
              "      <td>1.102846</td>\n",
              "      <td>4707.956783</td>\n",
              "      <td>7117.786044</td>\n",
              "      <td>2.498009</td>\n",
              "      <td>3.659938</td>\n",
              "      <td>0.360824</td>\n",
              "      <td>1.081209</td>\n",
              "      <td>0.0</td>\n",
              "      <td>0.852077</td>\n",
              "      <td>7.780782</td>\n",
              "      <td>1.289271</td>\n",
              "      <td>0.706476</td>\n",
              "      <td>6.126525</td>\n",
              "      <td>3.623137</td>\n",
              "      <td>3.222430</td>\n",
              "      <td>3.568136</td>\n",
              "    </tr>\n",
              "    <tr>\n",
              "      <th>min</th>\n",
              "      <td>18.000000</td>\n",
              "      <td>102.000000</td>\n",
              "      <td>1.000000</td>\n",
              "      <td>1.000000</td>\n",
              "      <td>1.0</td>\n",
              "      <td>1.000000</td>\n",
              "      <td>1.000000</td>\n",
              "      <td>30.000000</td>\n",
              "      <td>1.000000</td>\n",
              "      <td>1.000000</td>\n",
              "      <td>1.000000</td>\n",
              "      <td>1009.000000</td>\n",
              "      <td>2094.000000</td>\n",
              "      <td>0.000000</td>\n",
              "      <td>11.000000</td>\n",
              "      <td>3.000000</td>\n",
              "      <td>1.000000</td>\n",
              "      <td>80.0</td>\n",
              "      <td>0.000000</td>\n",
              "      <td>0.000000</td>\n",
              "      <td>0.000000</td>\n",
              "      <td>1.000000</td>\n",
              "      <td>0.000000</td>\n",
              "      <td>0.000000</td>\n",
              "      <td>0.000000</td>\n",
              "      <td>0.000000</td>\n",
              "    </tr>\n",
              "    <tr>\n",
              "      <th>25%</th>\n",
              "      <td>30.000000</td>\n",
              "      <td>465.000000</td>\n",
              "      <td>2.000000</td>\n",
              "      <td>2.000000</td>\n",
              "      <td>1.0</td>\n",
              "      <td>491.250000</td>\n",
              "      <td>2.000000</td>\n",
              "      <td>48.000000</td>\n",
              "      <td>2.000000</td>\n",
              "      <td>1.000000</td>\n",
              "      <td>2.000000</td>\n",
              "      <td>2911.000000</td>\n",
              "      <td>8047.000000</td>\n",
              "      <td>1.000000</td>\n",
              "      <td>12.000000</td>\n",
              "      <td>3.000000</td>\n",
              "      <td>2.000000</td>\n",
              "      <td>80.0</td>\n",
              "      <td>0.000000</td>\n",
              "      <td>6.000000</td>\n",
              "      <td>2.000000</td>\n",
              "      <td>2.000000</td>\n",
              "      <td>3.000000</td>\n",
              "      <td>2.000000</td>\n",
              "      <td>0.000000</td>\n",
              "      <td>2.000000</td>\n",
              "    </tr>\n",
              "    <tr>\n",
              "      <th>50%</th>\n",
              "      <td>36.000000</td>\n",
              "      <td>802.000000</td>\n",
              "      <td>7.000000</td>\n",
              "      <td>3.000000</td>\n",
              "      <td>1.0</td>\n",
              "      <td>1020.500000</td>\n",
              "      <td>3.000000</td>\n",
              "      <td>66.000000</td>\n",
              "      <td>3.000000</td>\n",
              "      <td>2.000000</td>\n",
              "      <td>3.000000</td>\n",
              "      <td>4919.000000</td>\n",
              "      <td>14235.500000</td>\n",
              "      <td>2.000000</td>\n",
              "      <td>14.000000</td>\n",
              "      <td>3.000000</td>\n",
              "      <td>3.000000</td>\n",
              "      <td>80.0</td>\n",
              "      <td>1.000000</td>\n",
              "      <td>10.000000</td>\n",
              "      <td>3.000000</td>\n",
              "      <td>3.000000</td>\n",
              "      <td>5.000000</td>\n",
              "      <td>3.000000</td>\n",
              "      <td>1.000000</td>\n",
              "      <td>3.000000</td>\n",
              "    </tr>\n",
              "    <tr>\n",
              "      <th>75%</th>\n",
              "      <td>43.000000</td>\n",
              "      <td>1157.000000</td>\n",
              "      <td>14.000000</td>\n",
              "      <td>4.000000</td>\n",
              "      <td>1.0</td>\n",
              "      <td>1555.750000</td>\n",
              "      <td>4.000000</td>\n",
              "      <td>83.750000</td>\n",
              "      <td>3.000000</td>\n",
              "      <td>3.000000</td>\n",
              "      <td>4.000000</td>\n",
              "      <td>8379.000000</td>\n",
              "      <td>20461.500000</td>\n",
              "      <td>4.000000</td>\n",
              "      <td>18.000000</td>\n",
              "      <td>3.000000</td>\n",
              "      <td>4.000000</td>\n",
              "      <td>80.0</td>\n",
              "      <td>1.000000</td>\n",
              "      <td>15.000000</td>\n",
              "      <td>3.000000</td>\n",
              "      <td>3.000000</td>\n",
              "      <td>9.000000</td>\n",
              "      <td>7.000000</td>\n",
              "      <td>3.000000</td>\n",
              "      <td>7.000000</td>\n",
              "    </tr>\n",
              "    <tr>\n",
              "      <th>max</th>\n",
              "      <td>60.000000</td>\n",
              "      <td>1499.000000</td>\n",
              "      <td>29.000000</td>\n",
              "      <td>5.000000</td>\n",
              "      <td>1.0</td>\n",
              "      <td>2068.000000</td>\n",
              "      <td>4.000000</td>\n",
              "      <td>100.000000</td>\n",
              "      <td>4.000000</td>\n",
              "      <td>5.000000</td>\n",
              "      <td>4.000000</td>\n",
              "      <td>19999.000000</td>\n",
              "      <td>26999.000000</td>\n",
              "      <td>9.000000</td>\n",
              "      <td>25.000000</td>\n",
              "      <td>4.000000</td>\n",
              "      <td>4.000000</td>\n",
              "      <td>80.0</td>\n",
              "      <td>3.000000</td>\n",
              "      <td>40.000000</td>\n",
              "      <td>6.000000</td>\n",
              "      <td>4.000000</td>\n",
              "      <td>40.000000</td>\n",
              "      <td>18.000000</td>\n",
              "      <td>15.000000</td>\n",
              "      <td>17.000000</td>\n",
              "    </tr>\n",
              "  </tbody>\n",
              "</table>\n",
              "</div>"
            ],
            "text/plain": [
              "               Age    DailyRate  DistanceFromHome    Education  EmployeeCount  \\\n",
              "count  1470.000000  1470.000000       1470.000000  1470.000000         1470.0   \n",
              "mean     36.923810   802.485714          9.192517     2.912925            1.0   \n",
              "std       9.135373   403.509100          8.106864     1.024165            0.0   \n",
              "min      18.000000   102.000000          1.000000     1.000000            1.0   \n",
              "25%      30.000000   465.000000          2.000000     2.000000            1.0   \n",
              "50%      36.000000   802.000000          7.000000     3.000000            1.0   \n",
              "75%      43.000000  1157.000000         14.000000     4.000000            1.0   \n",
              "max      60.000000  1499.000000         29.000000     5.000000            1.0   \n",
              "\n",
              "       EmployeeNumber  EnvironmentSatisfaction   HourlyRate  JobInvolvement  \\\n",
              "count     1470.000000              1470.000000  1470.000000     1470.000000   \n",
              "mean      1024.865306                 2.721769    65.891156        2.729932   \n",
              "std        602.024335                 1.093082    20.329428        0.711561   \n",
              "min          1.000000                 1.000000    30.000000        1.000000   \n",
              "25%        491.250000                 2.000000    48.000000        2.000000   \n",
              "50%       1020.500000                 3.000000    66.000000        3.000000   \n",
              "75%       1555.750000                 4.000000    83.750000        3.000000   \n",
              "max       2068.000000                 4.000000   100.000000        4.000000   \n",
              "\n",
              "          JobLevel  JobSatisfaction  MonthlyIncome   MonthlyRate  \\\n",
              "count  1470.000000      1470.000000    1470.000000   1470.000000   \n",
              "mean      2.063946         2.728571    6502.931293  14313.103401   \n",
              "std       1.106940         1.102846    4707.956783   7117.786044   \n",
              "min       1.000000         1.000000    1009.000000   2094.000000   \n",
              "25%       1.000000         2.000000    2911.000000   8047.000000   \n",
              "50%       2.000000         3.000000    4919.000000  14235.500000   \n",
              "75%       3.000000         4.000000    8379.000000  20461.500000   \n",
              "max       5.000000         4.000000   19999.000000  26999.000000   \n",
              "\n",
              "       NumCompaniesWorked  PercentSalaryHike  PerformanceRating  \\\n",
              "count         1470.000000        1470.000000        1470.000000   \n",
              "mean             2.693197          15.209524           3.153741   \n",
              "std              2.498009           3.659938           0.360824   \n",
              "min              0.000000          11.000000           3.000000   \n",
              "25%              1.000000          12.000000           3.000000   \n",
              "50%              2.000000          14.000000           3.000000   \n",
              "75%              4.000000          18.000000           3.000000   \n",
              "max              9.000000          25.000000           4.000000   \n",
              "\n",
              "       RelationshipSatisfaction  StandardHours  StockOptionLevel  \\\n",
              "count               1470.000000         1470.0       1470.000000   \n",
              "mean                   2.712245           80.0          0.793878   \n",
              "std                    1.081209            0.0          0.852077   \n",
              "min                    1.000000           80.0          0.000000   \n",
              "25%                    2.000000           80.0          0.000000   \n",
              "50%                    3.000000           80.0          1.000000   \n",
              "75%                    4.000000           80.0          1.000000   \n",
              "max                    4.000000           80.0          3.000000   \n",
              "\n",
              "       TotalWorkingYears  TrainingTimesLastYear  WorkLifeBalance  \\\n",
              "count        1470.000000            1470.000000      1470.000000   \n",
              "mean           11.279592               2.799320         2.761224   \n",
              "std             7.780782               1.289271         0.706476   \n",
              "min             0.000000               0.000000         1.000000   \n",
              "25%             6.000000               2.000000         2.000000   \n",
              "50%            10.000000               3.000000         3.000000   \n",
              "75%            15.000000               3.000000         3.000000   \n",
              "max            40.000000               6.000000         4.000000   \n",
              "\n",
              "       YearsAtCompany  YearsInCurrentRole  YearsSinceLastPromotion  \\\n",
              "count     1470.000000         1470.000000              1470.000000   \n",
              "mean         7.008163            4.229252                 2.187755   \n",
              "std          6.126525            3.623137                 3.222430   \n",
              "min          0.000000            0.000000                 0.000000   \n",
              "25%          3.000000            2.000000                 0.000000   \n",
              "50%          5.000000            3.000000                 1.000000   \n",
              "75%          9.000000            7.000000                 3.000000   \n",
              "max         40.000000           18.000000                15.000000   \n",
              "\n",
              "       YearsWithCurrManager  \n",
              "count           1470.000000  \n",
              "mean               4.123129  \n",
              "std                3.568136  \n",
              "min                0.000000  \n",
              "25%                2.000000  \n",
              "50%                3.000000  \n",
              "75%                7.000000  \n",
              "max               17.000000  "
            ]
          },
          "metadata": {
            "tags": []
          },
          "execution_count": 135
        }
      ]
    },
    {
      "cell_type": "markdown",
      "metadata": {
        "id": "HJr-BhT9XW1d"
      },
      "source": [
        "### 3"
      ]
    },
    {
      "cell_type": "code",
      "metadata": {
        "id": "b0sC3ZZoamy9"
      },
      "source": [
        "# Columns I don't want: \n",
        "  # 3 - Dailyrate (redudant to hourlyrate)\n",
        "  # 8 - Employee count (just an ID)\n",
        "  # 9 - Employee number (also an ID)\n",
        "  # 18 - Monthly Income (redudantant to hourlyrate)\n",
        "  # 19 - Monthly Reate (redudantant to hourlyrate)\n",
        "  # 21 - Over 18 (all of them are over 18)\n",
        "  # 26 - StandardHours (they are all 80)\n",
        "\n",
        "# Dropping columns I don't want + categorical features\n",
        "data_num.drop(data_num.columns[[1,2,3,4,7,8,9,11,15,17,18,19,21,22,26]], axis=1, inplace=True)\n",
        "print(data_num.head(), '\\n')\n",
        "\n",
        "# Dropping columns I don't want + numerical features \n",
        "data_cat.drop(data_cat.columns[[0,3,5,6,8,9,10,12,13,14,16,18,19,20,21,23,24,25,26,27,28,29,30,31,32,33,34]], axis=1, inplace=True)\n",
        "print(data_cat.head())"
      ],
      "execution_count": null,
      "outputs": []
    },
    {
      "cell_type": "markdown",
      "metadata": {
        "id": "s94r19N8Xal3"
      },
      "source": [
        "### 4."
      ]
    },
    {
      "cell_type": "code",
      "metadata": {
        "colab": {
          "base_uri": "https://localhost:8080/",
          "height": 1000
        },
        "id": "4EEqlppkSvgH",
        "outputId": "396a9aef-6ead-4ba4-c236-fa8510678f87"
      },
      "source": [
        "# Plot count plots to get a feel for some of the data\n",
        "\n",
        "plt.figure(1)\n",
        "sb.countplot(x='Attrition', data=data_cat)\n",
        "plt.savefig('Attrition count plot', dpi=200)\n",
        "\n",
        "plt.figure(2)\n",
        "sb.countplot(x='Gender', data=data_cat)\n",
        "plt.savefig('Gender count plot', dpi=200)\n",
        "\n",
        "plt.figure(3)\n",
        "sb.countplot(x='MaritalStatus', data=data_cat)\n",
        "plt.savefig('Marital status count plot', dpi=200)\n",
        "\n",
        "plt.figure(4)\n",
        "sb.countplot(x='Age', data=data_num)\n",
        "plt.savefig('Age count plot', dpi=200)\n",
        "\n",
        "plt.show()\n"
      ],
      "execution_count": 100,
      "outputs": [
        {
          "output_type": "display_data",
          "data": {
            "image/png": "[encoded data removed]",
            "text/plain": [
              "<Figure size 432x288 with 1 Axes>"
            ]
          },
          "metadata": {
            "tags": [],
            "needs_background": "light"
          }
        },
        {
          "output_type": "display_data",
          "data": {
            "image/png": "[encoded data removed]",
            "text/plain": [
              "<Figure size 432x288 with 1 Axes>"
            ]
          },
          "metadata": {
            "tags": [],
            "needs_background": "light"
          }
        },
        {
          "output_type": "display_data",
          "data": {
            "image/png": "[encoded data removed]",
            "text/plain": [
              "<Figure size 432x288 with 1 Axes>"
            ]
          },
          "metadata": {
            "tags": [],
            "needs_background": "light"
          }
        },
        {
          "output_type": "display_data",
          "data": {
            "image/png": "[encoded data removed]",
            "text/plain": [
              "<Figure size 432x288 with 1 Axes>"
            ]
          },
          "metadata": {
            "tags": [],
            "needs_background": "light"
          }
        }
      ]
    },
    {
      "cell_type": "markdown",
      "metadata": {
        "id": "hUdYCecrYErb"
      },
      "source": [
        "### 5."
      ]
    },
    {
      "cell_type": "code",
      "metadata": {
        "id": "ITCjfwhIoWKQ"
      },
      "source": [
        "# Normalizing the data between 0 & 1\n",
        "\n",
        "scaler = MinMaxScaler(feature_range=(0, 1))\n",
        "normalizedData = scaler.fit_transform(data_num)\n",
        "cols = ['Age','DistanceFromHome', 'Education', 'EnvironmentSatisfaction', 'HourlyRate', 'JobInvolvement', 'JobLevel', 'JobSatisfaction', 'NumCompaniesWorked', 'PercentSalaryHike','PerformanceRating','RelationshipSatisfaction','StockOptionLevel','TotalWorkingYears','TrainingTimesLastYear','WorkLifeBalance','YearsAtCompany','YearsInCurrentRole','YearsSinceLastPromotion','YearsWithCurrManager']\n",
        "data_num_norm = pd.DataFrame(normalizedData, columns=cols)\n",
        "print(data_num_norm.head())"
      ],
      "execution_count": null,
      "outputs": []
    },
    {
      "cell_type": "markdown",
      "metadata": {
        "id": "ktyaPeFAYGTW"
      },
      "source": [
        "### 6."
      ]
    },
    {
      "cell_type": "code",
      "metadata": {
        "colab": {
          "base_uri": "https://localhost:8080/",
          "height": 308
        },
        "id": "zT3ltKwGvuQE",
        "outputId": "4331235e-6747-4972-a30c-351385dddb27"
      },
      "source": [
        "# Viewing the normalized numerical features\n",
        "\n",
        "data_num_norm.describe()"
      ],
      "execution_count": 6,
      "outputs": [
        {
          "output_type": "execute_result",
          "data": {
            "text/html": [
              "<div>\n",
              "<style scoped>\n",
              "    .dataframe tbody tr th:only-of-type {\n",
              "        vertical-align: middle;\n",
              "    }\n",
              "\n",
              "    .dataframe tbody tr th {\n",
              "        vertical-align: top;\n",
              "    }\n",
              "\n",
              "    .dataframe thead th {\n",
              "        text-align: right;\n",
              "    }\n",
              "</style>\n",
              "<table border=\"1\" class=\"dataframe\">\n",
              "  <thead>\n",
              "    <tr style=\"text-align: right;\">\n",
              "      <th></th>\n",
              "      <th>Age</th>\n",
              "      <th>DistanceFromHome</th>\n",
              "      <th>Education</th>\n",
              "      <th>EnvironmentSatisfaction</th>\n",
              "      <th>HourlyRate</th>\n",
              "      <th>JobInvolvement</th>\n",
              "      <th>JobLevel</th>\n",
              "      <th>JobSatisfaction</th>\n",
              "      <th>NumCompaniesWorked</th>\n",
              "      <th>PercentSalaryHike</th>\n",
              "      <th>PerformanceRating</th>\n",
              "      <th>RelationshipSatisfaction</th>\n",
              "      <th>StockOptionLevel</th>\n",
              "      <th>TotalWorkingYears</th>\n",
              "      <th>TrainingTimesLastYear</th>\n",
              "      <th>WorkLifeBalance</th>\n",
              "      <th>YearsAtCompany</th>\n",
              "      <th>YearsInCurrentRole</th>\n",
              "      <th>YearsSinceLastPromotion</th>\n",
              "      <th>YearsWithCurrManager</th>\n",
              "    </tr>\n",
              "  </thead>\n",
              "  <tbody>\n",
              "    <tr>\n",
              "      <th>count</th>\n",
              "      <td>1470.000000</td>\n",
              "      <td>1470.000000</td>\n",
              "      <td>1470.000000</td>\n",
              "      <td>1470.000000</td>\n",
              "      <td>1470.000000</td>\n",
              "      <td>1470.000000</td>\n",
              "      <td>1470.000000</td>\n",
              "      <td>1470.000000</td>\n",
              "      <td>1470.000000</td>\n",
              "      <td>1470.000000</td>\n",
              "      <td>1470.000000</td>\n",
              "      <td>1470.000000</td>\n",
              "      <td>1470.000000</td>\n",
              "      <td>1470.00000</td>\n",
              "      <td>1470.000000</td>\n",
              "      <td>1470.000000</td>\n",
              "      <td>1470.000000</td>\n",
              "      <td>1470.000000</td>\n",
              "      <td>1470.000000</td>\n",
              "      <td>1470.000000</td>\n",
              "    </tr>\n",
              "    <tr>\n",
              "      <th>mean</th>\n",
              "      <td>0.450567</td>\n",
              "      <td>0.292590</td>\n",
              "      <td>0.478231</td>\n",
              "      <td>0.573923</td>\n",
              "      <td>0.512731</td>\n",
              "      <td>0.576644</td>\n",
              "      <td>0.265986</td>\n",
              "      <td>0.576190</td>\n",
              "      <td>0.299244</td>\n",
              "      <td>0.300680</td>\n",
              "      <td>0.153741</td>\n",
              "      <td>0.570748</td>\n",
              "      <td>0.264626</td>\n",
              "      <td>0.28199</td>\n",
              "      <td>0.466553</td>\n",
              "      <td>0.587075</td>\n",
              "      <td>0.175204</td>\n",
              "      <td>0.234958</td>\n",
              "      <td>0.145850</td>\n",
              "      <td>0.242537</td>\n",
              "    </tr>\n",
              "    <tr>\n",
              "      <th>std</th>\n",
              "      <td>0.217509</td>\n",
              "      <td>0.289531</td>\n",
              "      <td>0.256041</td>\n",
              "      <td>0.364361</td>\n",
              "      <td>0.290420</td>\n",
              "      <td>0.237187</td>\n",
              "      <td>0.276735</td>\n",
              "      <td>0.367615</td>\n",
              "      <td>0.277557</td>\n",
              "      <td>0.261424</td>\n",
              "      <td>0.360824</td>\n",
              "      <td>0.360403</td>\n",
              "      <td>0.284026</td>\n",
              "      <td>0.19452</td>\n",
              "      <td>0.214878</td>\n",
              "      <td>0.235492</td>\n",
              "      <td>0.153163</td>\n",
              "      <td>0.201285</td>\n",
              "      <td>0.214829</td>\n",
              "      <td>0.209890</td>\n",
              "    </tr>\n",
              "    <tr>\n",
              "      <th>min</th>\n",
              "      <td>0.000000</td>\n",
              "      <td>0.000000</td>\n",
              "      <td>0.000000</td>\n",
              "      <td>0.000000</td>\n",
              "      <td>0.000000</td>\n",
              "      <td>0.000000</td>\n",
              "      <td>0.000000</td>\n",
              "      <td>0.000000</td>\n",
              "      <td>0.000000</td>\n",
              "      <td>0.000000</td>\n",
              "      <td>0.000000</td>\n",
              "      <td>0.000000</td>\n",
              "      <td>0.000000</td>\n",
              "      <td>0.00000</td>\n",
              "      <td>0.000000</td>\n",
              "      <td>0.000000</td>\n",
              "      <td>0.000000</td>\n",
              "      <td>0.000000</td>\n",
              "      <td>0.000000</td>\n",
              "      <td>0.000000</td>\n",
              "    </tr>\n",
              "    <tr>\n",
              "      <th>25%</th>\n",
              "      <td>0.285714</td>\n",
              "      <td>0.035714</td>\n",
              "      <td>0.250000</td>\n",
              "      <td>0.333333</td>\n",
              "      <td>0.257143</td>\n",
              "      <td>0.333333</td>\n",
              "      <td>0.000000</td>\n",
              "      <td>0.333333</td>\n",
              "      <td>0.111111</td>\n",
              "      <td>0.071429</td>\n",
              "      <td>0.000000</td>\n",
              "      <td>0.333333</td>\n",
              "      <td>0.000000</td>\n",
              "      <td>0.15000</td>\n",
              "      <td>0.333333</td>\n",
              "      <td>0.333333</td>\n",
              "      <td>0.075000</td>\n",
              "      <td>0.111111</td>\n",
              "      <td>0.000000</td>\n",
              "      <td>0.117647</td>\n",
              "    </tr>\n",
              "    <tr>\n",
              "      <th>50%</th>\n",
              "      <td>0.428571</td>\n",
              "      <td>0.214286</td>\n",
              "      <td>0.500000</td>\n",
              "      <td>0.666667</td>\n",
              "      <td>0.514286</td>\n",
              "      <td>0.666667</td>\n",
              "      <td>0.250000</td>\n",
              "      <td>0.666667</td>\n",
              "      <td>0.222222</td>\n",
              "      <td>0.214286</td>\n",
              "      <td>0.000000</td>\n",
              "      <td>0.666667</td>\n",
              "      <td>0.333333</td>\n",
              "      <td>0.25000</td>\n",
              "      <td>0.500000</td>\n",
              "      <td>0.666667</td>\n",
              "      <td>0.125000</td>\n",
              "      <td>0.166667</td>\n",
              "      <td>0.066667</td>\n",
              "      <td>0.176471</td>\n",
              "    </tr>\n",
              "    <tr>\n",
              "      <th>75%</th>\n",
              "      <td>0.595238</td>\n",
              "      <td>0.464286</td>\n",
              "      <td>0.750000</td>\n",
              "      <td>1.000000</td>\n",
              "      <td>0.767857</td>\n",
              "      <td>0.666667</td>\n",
              "      <td>0.500000</td>\n",
              "      <td>1.000000</td>\n",
              "      <td>0.444444</td>\n",
              "      <td>0.500000</td>\n",
              "      <td>0.000000</td>\n",
              "      <td>1.000000</td>\n",
              "      <td>0.333333</td>\n",
              "      <td>0.37500</td>\n",
              "      <td>0.500000</td>\n",
              "      <td>0.666667</td>\n",
              "      <td>0.225000</td>\n",
              "      <td>0.388889</td>\n",
              "      <td>0.200000</td>\n",
              "      <td>0.411765</td>\n",
              "    </tr>\n",
              "    <tr>\n",
              "      <th>max</th>\n",
              "      <td>1.000000</td>\n",
              "      <td>1.000000</td>\n",
              "      <td>1.000000</td>\n",
              "      <td>1.000000</td>\n",
              "      <td>1.000000</td>\n",
              "      <td>1.000000</td>\n",
              "      <td>1.000000</td>\n",
              "      <td>1.000000</td>\n",
              "      <td>1.000000</td>\n",
              "      <td>1.000000</td>\n",
              "      <td>1.000000</td>\n",
              "      <td>1.000000</td>\n",
              "      <td>1.000000</td>\n",
              "      <td>1.00000</td>\n",
              "      <td>1.000000</td>\n",
              "      <td>1.000000</td>\n",
              "      <td>1.000000</td>\n",
              "      <td>1.000000</td>\n",
              "      <td>1.000000</td>\n",
              "      <td>1.000000</td>\n",
              "    </tr>\n",
              "  </tbody>\n",
              "</table>\n",
              "</div>"
            ],
            "text/plain": [
              "               Age  DistanceFromHome    Education  EnvironmentSatisfaction  \\\n",
              "count  1470.000000       1470.000000  1470.000000              1470.000000   \n",
              "mean      0.450567          0.292590     0.478231                 0.573923   \n",
              "std       0.217509          0.289531     0.256041                 0.364361   \n",
              "min       0.000000          0.000000     0.000000                 0.000000   \n",
              "25%       0.285714          0.035714     0.250000                 0.333333   \n",
              "50%       0.428571          0.214286     0.500000                 0.666667   \n",
              "75%       0.595238          0.464286     0.750000                 1.000000   \n",
              "max       1.000000          1.000000     1.000000                 1.000000   \n",
              "\n",
              "        HourlyRate  JobInvolvement     JobLevel  JobSatisfaction  \\\n",
              "count  1470.000000     1470.000000  1470.000000      1470.000000   \n",
              "mean      0.512731        0.576644     0.265986         0.576190   \n",
              "std       0.290420        0.237187     0.276735         0.367615   \n",
              "min       0.000000        0.000000     0.000000         0.000000   \n",
              "25%       0.257143        0.333333     0.000000         0.333333   \n",
              "50%       0.514286        0.666667     0.250000         0.666667   \n",
              "75%       0.767857        0.666667     0.500000         1.000000   \n",
              "max       1.000000        1.000000     1.000000         1.000000   \n",
              "\n",
              "       NumCompaniesWorked  PercentSalaryHike  PerformanceRating  \\\n",
              "count         1470.000000        1470.000000        1470.000000   \n",
              "mean             0.299244           0.300680           0.153741   \n",
              "std              0.277557           0.261424           0.360824   \n",
              "min              0.000000           0.000000           0.000000   \n",
              "25%              0.111111           0.071429           0.000000   \n",
              "50%              0.222222           0.214286           0.000000   \n",
              "75%              0.444444           0.500000           0.000000   \n",
              "max              1.000000           1.000000           1.000000   \n",
              "\n",
              "       RelationshipSatisfaction  StockOptionLevel  TotalWorkingYears  \\\n",
              "count               1470.000000       1470.000000         1470.00000   \n",
              "mean                   0.570748          0.264626            0.28199   \n",
              "std                    0.360403          0.284026            0.19452   \n",
              "min                    0.000000          0.000000            0.00000   \n",
              "25%                    0.333333          0.000000            0.15000   \n",
              "50%                    0.666667          0.333333            0.25000   \n",
              "75%                    1.000000          0.333333            0.37500   \n",
              "max                    1.000000          1.000000            1.00000   \n",
              "\n",
              "       TrainingTimesLastYear  WorkLifeBalance  YearsAtCompany  \\\n",
              "count            1470.000000      1470.000000     1470.000000   \n",
              "mean                0.466553         0.587075        0.175204   \n",
              "std                 0.214878         0.235492        0.153163   \n",
              "min                 0.000000         0.000000        0.000000   \n",
              "25%                 0.333333         0.333333        0.075000   \n",
              "50%                 0.500000         0.666667        0.125000   \n",
              "75%                 0.500000         0.666667        0.225000   \n",
              "max                 1.000000         1.000000        1.000000   \n",
              "\n",
              "       YearsInCurrentRole  YearsSinceLastPromotion  YearsWithCurrManager  \n",
              "count         1470.000000              1470.000000           1470.000000  \n",
              "mean             0.234958                 0.145850              0.242537  \n",
              "std              0.201285                 0.214829              0.209890  \n",
              "min              0.000000                 0.000000              0.000000  \n",
              "25%              0.111111                 0.000000              0.117647  \n",
              "50%              0.166667                 0.066667              0.176471  \n",
              "75%              0.388889                 0.200000              0.411765  \n",
              "max              1.000000                 1.000000              1.000000  "
            ]
          },
          "metadata": {
            "tags": []
          },
          "execution_count": 6
        }
      ]
    },
    {
      "cell_type": "markdown",
      "metadata": {
        "id": "dbiFGtYoYNGx"
      },
      "source": [
        "### 7."
      ]
    },
    {
      "cell_type": "code",
      "metadata": {
        "colab": {
          "base_uri": "https://localhost:8080/"
        },
        "id": "wnQmIkRk2Ckf",
        "outputId": "b52e4136-488f-4830-e0be-674e11045d78"
      },
      "source": [
        "# Checking what's inside data_cat\n",
        "\n",
        "print(data_cat.head())"
      ],
      "execution_count": 7,
      "outputs": [
        {
          "output_type": "stream",
          "text": [
            "  Attrition     BusinessTravel              Department EducationField  Gender  \\\n",
            "0       Yes      Travel_Rarely                   Sales  Life Sciences  Female   \n",
            "1        No  Travel_Frequently  Research & Development  Life Sciences    Male   \n",
            "2       Yes      Travel_Rarely  Research & Development          Other    Male   \n",
            "3        No  Travel_Frequently  Research & Development  Life Sciences  Female   \n",
            "4        No      Travel_Rarely  Research & Development        Medical    Male   \n",
            "\n",
            "                 JobRole MaritalStatus OverTime  \n",
            "0        Sales Executive        Single      Yes  \n",
            "1     Research Scientist       Married       No  \n",
            "2  Laboratory Technician        Single      Yes  \n",
            "3     Research Scientist       Married      Yes  \n",
            "4  Laboratory Technician       Married       No  \n"
          ],
          "name": "stdout"
        }
      ]
    },
    {
      "cell_type": "markdown",
      "metadata": {
        "id": "guiMGOh5YO_I"
      },
      "source": [
        "### 8."
      ]
    },
    {
      "cell_type": "code",
      "metadata": {
        "id": "ruc916mQ3LN1"
      },
      "source": [
        "# Replacing \"Yes\" & \"No\" in Attrition (target variable) with 1's & 0's so the models don't break later on\n",
        "\n",
        "data_cat = data_cat.replace({'Attrition': {'Yes': 1, 'No': 0}})\n",
        "\n",
        "data_cat"
      ],
      "execution_count": null,
      "outputs": []
    },
    {
      "cell_type": "markdown",
      "metadata": {
        "id": "qNF5oZOgYQvT"
      },
      "source": [
        "### 9."
      ]
    },
    {
      "cell_type": "code",
      "metadata": {
        "id": "_1fkpJhG09Ho"
      },
      "source": [
        "# Turning data_class (except Attrition) into dummy variabls \n",
        "\n",
        "data_cat_dum = pd.get_dummies(data_cat, columns=['BusinessTravel', 'Department','EducationField', 'Gender','JobRole','MaritalStatus','OverTime'])\n",
        "print(data_cat_dum)"
      ],
      "execution_count": null,
      "outputs": []
    },
    {
      "cell_type": "markdown",
      "metadata": {
        "id": "5PZksX6rYTav"
      },
      "source": [
        "### 10."
      ]
    },
    {
      "cell_type": "code",
      "metadata": {
        "id": "ehrFAH6dwXwM"
      },
      "source": [
        "\n",
        "# Combines the two datasets \n",
        "\n",
        "complete_data = pd.concat([data_cat_dum, data_num_norm], axis=1, join='inner')\n",
        "print(complete_data.head())"
      ],
      "execution_count": null,
      "outputs": []
    },
    {
      "cell_type": "markdown",
      "metadata": {
        "id": "BEZfMswcy-Df"
      },
      "source": [
        "# Part 2: Modeling the data"
      ]
    },
    {
      "cell_type": "code",
      "metadata": {
        "id": "gZdUCX4Sy5kN"
      },
      "source": [
        "# Splitting data into X & y\n",
        "\n",
        "X = complete_data.iloc[:, 1:] # takes the rest of the columns as x\n",
        "y = complete_data.iloc[:, 0:1] # takes the first column (Attrition) as y\n",
        "\n",
        "# Partitioning data into training & testing using test size of 30%\n",
        "X_train, X_test, y_train, y_test = train_test_split(X, y, test_size=0.3, random_state=42)\n"
      ],
      "execution_count": 19,
      "outputs": []
    },
    {
      "cell_type": "code",
      "metadata": {
        "colab": {
          "base_uri": "https://localhost:8080/"
        },
        "id": "jJmG9871zUkx",
        "outputId": "7fc9b0a8-d107-4f83-fc3f-cfeb42b6b8d8"
      },
      "source": [
        "# Uses dummy classifier to find the baseline accuracy\n",
        "\n",
        "dummy_classifier = DummyClassifier(strategy='most_frequent')\n",
        "dummy_classifier.fit(X_train,y_train)\n",
        "baseline_acc = dummy_classifier.score(X_test,y_test)\n",
        "\n",
        "print(\"Baseline Accuracy =\", baseline_acc)\n"
      ],
      "execution_count": 38,
      "outputs": [
        {
          "output_type": "stream",
          "text": [
            "Baseline Accuracy = 0.8616780045351474\n"
          ],
          "name": "stdout"
        }
      ]
    },
    {
      "cell_type": "markdown",
      "metadata": {
        "id": "wkmvtBDcQc8X"
      },
      "source": [
        "## Logistic Regression"
      ]
    },
    {
      "cell_type": "code",
      "metadata": {
        "colab": {
          "base_uri": "https://localhost:8080/"
        },
        "id": "EmNbkiASPeTP",
        "outputId": "7601f555-2252-4d98-cc70-2dcbe6d2fcc1"
      },
      "source": [
        "model_lr = LogisticRegression()\n",
        "\n",
        "model_lr.fit(X_train, y_train)\n",
        "          \n",
        "predict_lr = lr.predict(X_test)\n",
        "\n",
        "acc_Logistic_Reg = accuracy_score(y_test, predict_lr)\n",
        "print('Logistic Regression Accuracy =', acc_Logistic_Reg, '\\n')"
      ],
      "execution_count": 106,
      "outputs": [
        {
          "output_type": "stream",
          "text": [
            "Logistic Regression Accuracy = 0.8843537414965986 \n",
            "\n"
          ],
          "name": "stdout"
        },
        {
          "output_type": "stream",
          "text": [
            "/usr/local/lib/python3.7/dist-packages/sklearn/utils/validation.py:760: DataConversionWarning: A column-vector y was passed when a 1d array was expected. Please change the shape of y to (n_samples, ), for example using ravel().\n",
            "  y = column_or_1d(y, warn=True)\n"
          ],
          "name": "stderr"
        }
      ]
    },
    {
      "cell_type": "markdown",
      "metadata": {
        "id": "9rcW3fwnPb70"
      },
      "source": [
        "## Decision Tree"
      ]
    },
    {
      "cell_type": "code",
      "metadata": {
        "colab": {
          "base_uri": "https://localhost:8080/"
        },
        "id": "pNdUoJla8rzM",
        "outputId": "6bbafdd7-32bf-4c46-ed33-ebc9b8963694"
      },
      "source": [
        "dt = DecisionTreeClassifier(criterion='entropy', max_depth = 3)\n",
        "\n",
        "#3: Fit the model\n",
        "dt.fit(X_train, y_train)\n",
        "\n",
        "# Predict\n",
        "predict_dt = dt.predict(X_test)\n",
        "\n",
        "#accuracy on testing partition\n",
        "acc_Decision_Tree = accuracy_score(y_test, predict_dt)\n",
        "print('Decision Tree Accuracy =', acc_Decision_Tree)"
      ],
      "execution_count": 69,
      "outputs": [
        {
          "output_type": "stream",
          "text": [
            "Decision Tree Accuracy = 0.8684807256235828\n"
          ],
          "name": "stdout"
        }
      ]
    },
    {
      "cell_type": "code",
      "metadata": {
        "colab": {
          "base_uri": "https://localhost:8080/",
          "height": 683
        },
        "id": "CT2Dj8j39Aa3",
        "outputId": "bacc683f-9ed5-4784-8f14-aacc246919d0"
      },
      "source": [
        "# Viewing the decision tree\n",
        "\n",
        "plt.figure(2,figsize=(12,12))\n",
        "fn = X.columns\n",
        "Tree = tree.plot_tree(dt, feature_names=fn, filled=True, proportion=True, fontsize=9)\n",
        "plt.savefig('WorkDT.jpeg', quality=500)\n",
        "plt.show()"
      ],
      "execution_count": 101,
      "outputs": [
        {
          "output_type": "display_data",
          "data": {
            "image/png": "[encoded data removed]",
            "text/plain": [
              "<Figure size 864x864 with 1 Axes>"
            ]
          },
          "metadata": {
            "tags": [],
            "needs_background": "light"
          }
        }
      ]
    },
    {
      "cell_type": "markdown",
      "metadata": {
        "id": "H9jq-ro8zdWv"
      },
      "source": [
        "## Bagging"
      ]
    },
    {
      "cell_type": "code",
      "metadata": {
        "colab": {
          "base_uri": "https://localhost:8080/"
        },
        "id": "eY4uVv9bzgyC",
        "outputId": "1f764ac0-f5bc-4391-cdba-3b13406c0f80"
      },
      "source": [
        "\n",
        "#1 - Create an instance of the model\n",
        "model_bagging = BaggingClassifier(n_estimators=10,random_state = 42,)\n",
        "\n",
        "#2 - Train the model based on the training data\n",
        "model_bagging.fit(X_train, y_train)\n",
        "\n",
        "#3 - Predict on testing data \n",
        "pred_bagging = model_bagging.predict(X_test)\n",
        "\n",
        "#4 - Get your accuracy score\n",
        "acc_bagging = accuracy_score(y_test, pred_bagging)\n",
        "print('Bagging Accuracy =', acc_bagging, '\\n')"
      ],
      "execution_count": 137,
      "outputs": [
        {
          "output_type": "stream",
          "text": [
            "Bagging Accuracy = 0.8526077097505669 \n",
            "\n"
          ],
          "name": "stdout"
        },
        {
          "output_type": "stream",
          "text": [
            "/usr/local/lib/python3.7/dist-packages/sklearn/ensemble/_bagging.py:645: DataConversionWarning: A column-vector y was passed when a 1d array was expected. Please change the shape of y to (n_samples, ), for example using ravel().\n",
            "  y = column_or_1d(y, warn=True)\n"
          ],
          "name": "stderr"
        }
      ]
    },
    {
      "cell_type": "markdown",
      "metadata": {
        "id": "v66B0XlH6jzI"
      },
      "source": [
        "## RandomForest"
      ]
    },
    {
      "cell_type": "code",
      "metadata": {
        "colab": {
          "base_uri": "https://localhost:8080/"
        },
        "id": "-v8r2GV86lVW",
        "outputId": "4e381db3-9000-403f-856b-60bb7037761f"
      },
      "source": [
        "\n",
        "model_rf = RandomForestClassifier(n_estimators=100, max_features=7, random_state=42)\n",
        "model_rf.fit(X_train, y_train)\n",
        "predict_rf = model_rf.predict(X_test)\n",
        "\n",
        "acc_RandomForest = accuracy_score(y_test, predict_rf)\n",
        "print('Random Forest Accuracy =', acc_RandomForest, '\\n')"
      ],
      "execution_count": 138,
      "outputs": [
        {
          "output_type": "stream",
          "text": [
            "/usr/local/lib/python3.7/dist-packages/ipykernel_launcher.py:3: DataConversionWarning: A column-vector y was passed when a 1d array was expected. Please change the shape of y to (n_samples,), for example using ravel().\n",
            "  This is separate from the ipykernel package so we can avoid doing imports until\n"
          ],
          "name": "stderr"
        },
        {
          "output_type": "stream",
          "text": [
            "Random Forest Accuracy = 0.8616780045351474 \n",
            "\n"
          ],
          "name": "stdout"
        }
      ]
    },
    {
      "cell_type": "code",
      "metadata": {
        "colab": {
          "base_uri": "https://localhost:8080/"
        },
        "id": "p_N1lIa779b-",
        "outputId": "597f7a48-4d9f-470c-d261-fd9cc252c7f7"
      },
      "source": [
        "# Random Forest Feature Importance\n",
        "\n",
        "feature_importances = model_rf.feature_importances_\n",
        "features = X_train.columns\n",
        "df = pd.DataFrame({'features': features, 'importance': feature_importances}).nlargest(10, 'importance')\n",
        "\n",
        "print(df)"
      ],
      "execution_count": 29,
      "outputs": [
        {
          "output_type": "stream",
          "text": [
            "              features  importance\n",
            "28                 Age    0.076019\n",
            "41   TotalWorkingYears    0.064904\n",
            "29    DistanceFromHome    0.053481\n",
            "32          HourlyRate    0.052601\n",
            "44      YearsAtCompany    0.048293\n",
            "36  NumCompaniesWorked    0.042347\n",
            "26         OverTime_No    0.039065\n",
            "45  YearsInCurrentRole    0.036385\n",
            "27        OverTime_Yes    0.035927\n",
            "37   PercentSalaryHike    0.034731\n"
          ],
          "name": "stdout"
        }
      ]
    },
    {
      "cell_type": "markdown",
      "metadata": {
        "id": "9uyGy7WQ8J6R"
      },
      "source": [
        "## Boosting"
      ]
    },
    {
      "cell_type": "code",
      "metadata": {
        "colab": {
          "base_uri": "https://localhost:8080/"
        },
        "id": "ICvOMUtp8JYQ",
        "outputId": "4c5a3174-78aa-4166-a0c3-1de6b8bab0d7"
      },
      "source": [
        "# AdaBoost Classification\n",
        "# Enter your code here\n",
        "\n",
        "base_est = DecisionTreeClassifier(max_depth =4)\n",
        "ada_boost = AdaBoostClassifier(base_est, n_estimators=200, random_state=42, learning_rate=0.05)\n",
        "ada_boost.fit(X_train, y_train)\n",
        "predict_ada = ada_boost.predict(X_test)\n",
        "\n",
        "acc_AdaBoost = accuracy_score(y_test, predict_ada)\n",
        "print('\\n Boosting Accuracy =', acc_AdaBoost, '\\n')"
      ],
      "execution_count": 139,
      "outputs": [
        {
          "output_type": "stream",
          "text": [
            "/usr/local/lib/python3.7/dist-packages/sklearn/utils/validation.py:760: DataConversionWarning: A column-vector y was passed when a 1d array was expected. Please change the shape of y to (n_samples, ), for example using ravel().\n",
            "  y = column_or_1d(y, warn=True)\n"
          ],
          "name": "stderr"
        },
        {
          "output_type": "stream",
          "text": [
            "\n",
            " Boosting Accuracy = 0.8526077097505669 \n",
            "\n"
          ],
          "name": "stdout"
        }
      ]
    },
    {
      "cell_type": "code",
      "metadata": {
        "colab": {
          "base_uri": "https://localhost:8080/"
        },
        "id": "R2nRSBgk8QC7",
        "outputId": "4cdaac8c-b7ea-485c-a32e-cbf74b1dc1b0"
      },
      "source": [
        "# Feature Importance for boosing\n",
        "\n",
        "feature_importances = ada_boost.feature_importances_\n",
        "features = X_train.columns\n",
        "df = pd.DataFrame({'features': features, 'importance': feature_importances}).nlargest(10, 'importance')\n",
        "\n",
        "print(df)"
      ],
      "execution_count": 59,
      "outputs": [
        {
          "output_type": "stream",
          "text": [
            "                    features  importance\n",
            "28                       Age    0.141383\n",
            "29          DistanceFromHome    0.084146\n",
            "32                HourlyRate    0.073080\n",
            "35           JobSatisfaction    0.062735\n",
            "47      YearsWithCurrManager    0.053543\n",
            "46   YearsSinceLastPromotion    0.047496\n",
            "39  RelationshipSatisfaction    0.043797\n",
            "37         PercentSalaryHike    0.037560\n",
            "36        NumCompaniesWorked    0.035734\n",
            "41         TotalWorkingYears    0.031622\n"
          ],
          "name": "stdout"
        }
      ]
    },
    {
      "cell_type": "markdown",
      "metadata": {
        "id": "UsL6A5GX8Wm5"
      },
      "source": [
        "## Voting (ensemble of RandomForestClassifier, DecisionTreeClassifier, Support Vector Machine and Logistic Regression)"
      ]
    },
    {
      "cell_type": "code",
      "metadata": {
        "colab": {
          "base_uri": "https://localhost:8080/"
        },
        "id": "RDPeIMSD8WM8",
        "outputId": "89454d77-dd11-46fb-d059-8038f59dae26"
      },
      "source": [
        "\n",
        "# setting up the four individual classifiers \n",
        "rfClf = RandomForestClassifier(n_estimators=200, random_state=0) \n",
        "dtClf = DecisionTreeClassifier(max_depth = 4)\n",
        "svmClf = SVC(probability=True, random_state=0)\n",
        "logClf = LogisticRegression(random_state=0)\n",
        "\n",
        "# constructing the ensemble classifier by mentioning the individual classifiers.\n",
        "clf2 = VotingClassifier(estimators = [('rf',rfClf), ('dt',dtClf), ('svm',svmClf), ('log', logClf)], voting='soft') \n",
        "\n",
        "# train the ensemble classifier\n",
        "clf2.fit(X_train, y_train)\n",
        "\n",
        "# predict\n",
        "clf2_pred = clf2.predict(X_test)\n",
        "\n",
        "voting_acc_score = accuracy_score(y_test, clf2_pred)\n",
        "print('\\n Voting accuracy =', voting_acc_score)"
      ],
      "execution_count": 61,
      "outputs": [
        {
          "output_type": "stream",
          "text": [
            "/usr/local/lib/python3.7/dist-packages/sklearn/preprocessing/_label.py:235: DataConversionWarning: A column-vector y was passed when a 1d array was expected. Please change the shape of y to (n_samples, ), for example using ravel().\n",
            "  y = column_or_1d(y, warn=True)\n",
            "/usr/local/lib/python3.7/dist-packages/sklearn/preprocessing/_label.py:268: DataConversionWarning: A column-vector y was passed when a 1d array was expected. Please change the shape of y to (n_samples, ), for example using ravel().\n",
            "  y = column_or_1d(y, warn=True)\n"
          ],
          "name": "stderr"
        },
        {
          "output_type": "stream",
          "text": [
            "\n",
            " Voting accuracy = 0.8843537414965986\n"
          ],
          "name": "stdout"
        }
      ]
    },
    {
      "cell_type": "markdown",
      "metadata": {
        "id": "Vu4bFqtgYtqa"
      },
      "source": [
        "## Accuracy Results"
      ]
    },
    {
      "cell_type": "code",
      "metadata": {
        "colab": {
          "base_uri": "https://localhost:8080/"
        },
        "id": "jDiwUoFRNhYs",
        "outputId": "d0e917d9-a471-45d1-9e76-76b0f4be89e0"
      },
      "source": [
        "# All Accuracy Scores \n",
        "\n",
        "print(\"Baseline Accuracy =\", baseline_acc, '\\n')\n",
        "\n",
        "print('Logistic Regression Accuracy =', acc_Logistic_Reg, '\\n')\n",
        "\n",
        "print('Decision Tree Accuracy =', acc_Decision_Tree, '\\n')\n",
        "\n",
        "print('Bagging Accuracy =', acc_bagging, '\\n')\n",
        "\n",
        "print('Random Forest Accuracy =', acc_RandomForest, '\\n')\n",
        "\n",
        "print('Boosting Accuracy =', acc_AdaBoost, '\\n')\n",
        "\n",
        "print('Voting accuracy =', voting_acc_score)\n",
        "\n",
        "# Voting wins! "
      ],
      "execution_count": 71,
      "outputs": [
        {
          "output_type": "stream",
          "text": [
            "Baseline Accuracy = 0.8616780045351474 \n",
            "\n",
            "Logistic Regression Accuracy = 0.8843537414965986 \n",
            "\n",
            "Decision Tree Accuracy = 0.8684807256235828 \n",
            "\n",
            "Bagging Accuracy = 0.8526077097505669 \n",
            "\n",
            "Random Forest Accuracy = 0.8616780045351474 \n",
            "\n",
            "Boosting Accuracy = 0.8526077097505669 \n",
            "\n",
            "Voting accuracy = 0.8843537414965986\n"
          ],
          "name": "stdout"
        }
      ]
    },
    {
      "cell_type": "markdown",
      "metadata": {
        "id": "GYQD1ABkZelG"
      },
      "source": [
        "## Part 3: Looking at Logistic Regression in more detail"
      ]
    },
    {
      "cell_type": "code",
      "metadata": {
        "colab": {
          "base_uri": "https://localhost:8080/"
        },
        "id": "oiWHCM97ZjNZ",
        "outputId": "d90f976f-98a0-4e21-dd60-3d91ca088c6e"
      },
      "source": [
        "model_lr = LogisticRegression(class_weight={0:.85, 1:.15})\n",
        "\n",
        "model_lr.fit(X_train, y_train)\n",
        "          \n",
        "predict_lr = model_lr.predict(X_test)\n",
        "\n",
        "acc_Logistic_Reg = accuracy_score(y_test, predict_lr)\n",
        "print('Logistic Regression Accuracy =', acc_Logistic_Reg, '\\n')\n"
      ],
      "execution_count": 130,
      "outputs": [
        {
          "output_type": "stream",
          "text": [
            "Logistic Regression Accuracy = 0.8616780045351474 \n",
            "\n"
          ],
          "name": "stdout"
        },
        {
          "output_type": "stream",
          "text": [
            "/usr/local/lib/python3.7/dist-packages/sklearn/utils/validation.py:760: DataConversionWarning: A column-vector y was passed when a 1d array was expected. Please change the shape of y to (n_samples, ), for example using ravel().\n",
            "  y = column_or_1d(y, warn=True)\n"
          ],
          "name": "stderr"
        }
      ]
    },
    {
      "cell_type": "code",
      "metadata": {
        "colab": {
          "base_uri": "https://localhost:8080/"
        },
        "id": "4MIkM-tseKsW",
        "outputId": "4b5497cf-87f9-4277-ba7e-71c60b7cd20b"
      },
      "source": [
        "model_lr = LogisticRegression(C=2)\n",
        "\n",
        "model_lr.fit(X_train, y_train)\n",
        "          \n",
        "predict_lr = model_lr.predict(X_test)\n",
        "\n",
        "acc_Logistic_Reg = accuracy_score(y_test, predict_lr)\n",
        "print('Logistic Regression Accuracy =', acc_Logistic_Reg, '\\n')\n"
      ],
      "execution_count": 131,
      "outputs": [
        {
          "output_type": "stream",
          "text": [
            "Logistic Regression Accuracy = 0.8843537414965986 \n",
            "\n"
          ],
          "name": "stdout"
        },
        {
          "output_type": "stream",
          "text": [
            "/usr/local/lib/python3.7/dist-packages/sklearn/utils/validation.py:760: DataConversionWarning: A column-vector y was passed when a 1d array was expected. Please change the shape of y to (n_samples, ), for example using ravel().\n",
            "  y = column_or_1d(y, warn=True)\n"
          ],
          "name": "stderr"
        }
      ]
    },
    {
      "cell_type": "code",
      "metadata": {
        "colab": {
          "base_uri": "https://localhost:8080/",
          "height": 314
        },
        "id": "0eCPGS7kZn7z",
        "outputId": "987dca29-7530-489f-a14f-409086a587bc"
      },
      "source": [
        "# Confusion matrix\n",
        "\n",
        "cnf_matrix = metrics.confusion_matrix(y_test, y_pred)\n",
        "print(cnf_matrix)\n",
        "metrics.plot_confusion_matrix(model_lr, X_test, y_test)\n",
        "plt.show()"
      ],
      "execution_count": 132,
      "outputs": [
        {
          "output_type": "stream",
          "text": [
            "[[369  11]\n",
            " [ 40  21]]\n"
          ],
          "name": "stdout"
        },
        {
          "output_type": "display_data",
          "data": {
            "image/png": "[encoded data removed]",
            "text/plain": [
              "<Figure size 432x288 with 2 Axes>"
            ]
          },
          "metadata": {
            "tags": [],
            "needs_background": "light"
          }
        }
      ]
    }
  ]
}